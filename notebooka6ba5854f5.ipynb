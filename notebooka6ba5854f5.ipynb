{
  "metadata": {
    "kernelspec": {
      "language": "python",
      "display_name": "Python 3",
      "name": "python3"
    },
    "language_info": {
      "name": "python",
      "version": "3.11.11",
      "mimetype": "text/x-python",
      "codemirror_mode": {
        "name": "ipython",
        "version": 3
      },
      "pygments_lexer": "ipython3",
      "nbconvert_exporter": "python",
      "file_extension": ".py"
    },
    "kaggle": {
      "accelerator": "nvidiaTeslaT4",
      "dataSources": [
        {
          "sourceId": 35325,
          "databundleVersionId": 3359805,
          "sourceType": "competition"
        }
      ],
      "dockerImageVersionId": 31040,
      "isInternetEnabled": false,
      "language": "python",
      "sourceType": "notebook",
      "isGpuEnabled": true
    },
    "colab": {
      "name": "notebooka6ba5854f5",
      "provenance": [],
      "toc_visible": true,
      "include_colab_link": true
    },
    "widgets": {
      "application/vnd.jupyter.widget-state+json": {
        "35ffe753d72d4e71b04b3c9b96e7fa02": {
          "model_module": "@jupyter-widgets/controls",
          "model_name": "VBoxModel",
          "model_module_version": "2.0.0",
          "state": {
            "_dom_classes": [],
            "_model_module": "@jupyter-widgets/controls",
            "_model_module_version": "2.0.0",
            "_model_name": "VBoxModel",
            "_view_count": null,
            "_view_module": "@jupyter-widgets/controls",
            "_view_module_version": "2.0.0",
            "_view_name": "VBoxView",
            "box_style": "",
            "children": [
              "IPY_MODEL_0914ef4678f44592a962dc2c632fd63a",
              "IPY_MODEL_cac8ba337c594e1c970e8346afc5a59c",
              "IPY_MODEL_33acc52610ca4598b0d8d55658c211cf",
              "IPY_MODEL_727c08827fa340abb2a56ef1921f1a5d",
              "IPY_MODEL_206984a866ff4930b590ac511ec2b7d3"
            ],
            "layout": "IPY_MODEL_e91435ae494745fbb773b43007ce8de8",
            "tabbable": null,
            "tooltip": null
          }
        },
        "0914ef4678f44592a962dc2c632fd63a": {
          "model_module": "@jupyter-widgets/controls",
          "model_name": "HTMLModel",
          "model_module_version": "2.0.0",
          "state": {
            "_dom_classes": [],
            "_model_module": "@jupyter-widgets/controls",
            "_model_module_version": "2.0.0",
            "_model_name": "HTMLModel",
            "_view_count": null,
            "_view_module": "@jupyter-widgets/controls",
            "_view_module_version": "2.0.0",
            "_view_name": "HTMLView",
            "description": "",
            "description_allow_html": false,
            "layout": "IPY_MODEL_4a50945efb894bec98bf684035ca28d4",
            "placeholder": "​",
            "style": "IPY_MODEL_36cdb463d4ff4e56b52176a05d35423d",
            "tabbable": null,
            "tooltip": null,
            "value": "<center> <img\nsrc=https://www.kaggle.com/static/images/site-logo.png\nalt='Kaggle'> <br> Create an API token from <a\nhref=\"https://www.kaggle.com/settings/account\" target=\"_blank\">your Kaggle\nsettings page</a> and paste it below along with your Kaggle username. <br> </center>"
          }
        },
        "cac8ba337c594e1c970e8346afc5a59c": {
          "model_module": "@jupyter-widgets/controls",
          "model_name": "TextModel",
          "model_module_version": "2.0.0",
          "state": {
            "_dom_classes": [],
            "_model_module": "@jupyter-widgets/controls",
            "_model_module_version": "2.0.0",
            "_model_name": "TextModel",
            "_view_count": null,
            "_view_module": "@jupyter-widgets/controls",
            "_view_module_version": "2.0.0",
            "_view_name": "TextView",
            "continuous_update": true,
            "description": "Username:",
            "description_allow_html": false,
            "disabled": false,
            "layout": "IPY_MODEL_dd0c2de2a27f454cb4867c4bbacb00b6",
            "placeholder": "​",
            "style": "IPY_MODEL_1aabd471feaf4f9188ad8cdec7ca1e27",
            "tabbable": null,
            "tooltip": null,
            "value": ""
          }
        },
        "33acc52610ca4598b0d8d55658c211cf": {
          "model_module": "@jupyter-widgets/controls",
          "model_name": "PasswordModel",
          "model_module_version": "2.0.0",
          "state": {
            "_dom_classes": [],
            "_model_module": "@jupyter-widgets/controls",
            "_model_module_version": "2.0.0",
            "_model_name": "PasswordModel",
            "_view_count": null,
            "_view_module": "@jupyter-widgets/controls",
            "_view_module_version": "2.0.0",
            "_view_name": "PasswordView",
            "continuous_update": true,
            "description": "Token:",
            "description_allow_html": false,
            "disabled": false,
            "layout": "IPY_MODEL_a651ed296e3041028ebd1c2f6da647e3",
            "placeholder": "​",
            "style": "IPY_MODEL_d8156008679b449a8ffa13a2229b1836",
            "tabbable": null,
            "tooltip": null,
            "value": ""
          }
        },
        "727c08827fa340abb2a56ef1921f1a5d": {
          "model_module": "@jupyter-widgets/controls",
          "model_name": "ButtonModel",
          "model_module_version": "2.0.0",
          "state": {
            "_dom_classes": [],
            "_model_module": "@jupyter-widgets/controls",
            "_model_module_version": "2.0.0",
            "_model_name": "ButtonModel",
            "_view_count": null,
            "_view_module": "@jupyter-widgets/controls",
            "_view_module_version": "2.0.0",
            "_view_name": "ButtonView",
            "button_style": "",
            "description": "Login",
            "disabled": false,
            "icon": "",
            "layout": "IPY_MODEL_2493d925b18c4207a324ce7ebd2d2cf8",
            "style": "IPY_MODEL_e89edec25d3149b1aba842f4a858d7a6",
            "tabbable": null,
            "tooltip": null
          }
        },
        "206984a866ff4930b590ac511ec2b7d3": {
          "model_module": "@jupyter-widgets/controls",
          "model_name": "HTMLModel",
          "model_module_version": "2.0.0",
          "state": {
            "_dom_classes": [],
            "_model_module": "@jupyter-widgets/controls",
            "_model_module_version": "2.0.0",
            "_model_name": "HTMLModel",
            "_view_count": null,
            "_view_module": "@jupyter-widgets/controls",
            "_view_module_version": "2.0.0",
            "_view_name": "HTMLView",
            "description": "",
            "description_allow_html": false,
            "layout": "IPY_MODEL_5aad4b51933b452286ff51281c4109ab",
            "placeholder": "​",
            "style": "IPY_MODEL_53661a7d076e4c778f8b9da3f31188d7",
            "tabbable": null,
            "tooltip": null,
            "value": "\n<b>Thank You</b></center>"
          }
        },
        "e91435ae494745fbb773b43007ce8de8": {
          "model_module": "@jupyter-widgets/base",
          "model_name": "LayoutModel",
          "model_module_version": "2.0.0",
          "state": {
            "_model_module": "@jupyter-widgets/base",
            "_model_module_version": "2.0.0",
            "_model_name": "LayoutModel",
            "_view_count": null,
            "_view_module": "@jupyter-widgets/base",
            "_view_module_version": "2.0.0",
            "_view_name": "LayoutView",
            "align_content": null,
            "align_items": "center",
            "align_self": null,
            "border_bottom": null,
            "border_left": null,
            "border_right": null,
            "border_top": null,
            "bottom": null,
            "display": "flex",
            "flex": null,
            "flex_flow": "column",
            "grid_area": null,
            "grid_auto_columns": null,
            "grid_auto_flow": null,
            "grid_auto_rows": null,
            "grid_column": null,
            "grid_gap": null,
            "grid_row": null,
            "grid_template_areas": null,
            "grid_template_columns": null,
            "grid_template_rows": null,
            "height": null,
            "justify_content": null,
            "justify_items": null,
            "left": null,
            "margin": null,
            "max_height": null,
            "max_width": null,
            "min_height": null,
            "min_width": null,
            "object_fit": null,
            "object_position": null,
            "order": null,
            "overflow": null,
            "padding": null,
            "right": null,
            "top": null,
            "visibility": null,
            "width": "50%"
          }
        },
        "4a50945efb894bec98bf684035ca28d4": {
          "model_module": "@jupyter-widgets/base",
          "model_name": "LayoutModel",
          "model_module_version": "2.0.0",
          "state": {
            "_model_module": "@jupyter-widgets/base",
            "_model_module_version": "2.0.0",
            "_model_name": "LayoutModel",
            "_view_count": null,
            "_view_module": "@jupyter-widgets/base",
            "_view_module_version": "2.0.0",
            "_view_name": "LayoutView",
            "align_content": null,
            "align_items": null,
            "align_self": null,
            "border_bottom": null,
            "border_left": null,
            "border_right": null,
            "border_top": null,
            "bottom": null,
            "display": null,
            "flex": null,
            "flex_flow": null,
            "grid_area": null,
            "grid_auto_columns": null,
            "grid_auto_flow": null,
            "grid_auto_rows": null,
            "grid_column": null,
            "grid_gap": null,
            "grid_row": null,
            "grid_template_areas": null,
            "grid_template_columns": null,
            "grid_template_rows": null,
            "height": null,
            "justify_content": null,
            "justify_items": null,
            "left": null,
            "margin": null,
            "max_height": null,
            "max_width": null,
            "min_height": null,
            "min_width": null,
            "object_fit": null,
            "object_position": null,
            "order": null,
            "overflow": null,
            "padding": null,
            "right": null,
            "top": null,
            "visibility": null,
            "width": null
          }
        },
        "36cdb463d4ff4e56b52176a05d35423d": {
          "model_module": "@jupyter-widgets/controls",
          "model_name": "HTMLStyleModel",
          "model_module_version": "2.0.0",
          "state": {
            "_model_module": "@jupyter-widgets/controls",
            "_model_module_version": "2.0.0",
            "_model_name": "HTMLStyleModel",
            "_view_count": null,
            "_view_module": "@jupyter-widgets/base",
            "_view_module_version": "2.0.0",
            "_view_name": "StyleView",
            "background": null,
            "description_width": "",
            "font_size": null,
            "text_color": null
          }
        },
        "dd0c2de2a27f454cb4867c4bbacb00b6": {
          "model_module": "@jupyter-widgets/base",
          "model_name": "LayoutModel",
          "model_module_version": "2.0.0",
          "state": {
            "_model_module": "@jupyter-widgets/base",
            "_model_module_version": "2.0.0",
            "_model_name": "LayoutModel",
            "_view_count": null,
            "_view_module": "@jupyter-widgets/base",
            "_view_module_version": "2.0.0",
            "_view_name": "LayoutView",
            "align_content": null,
            "align_items": null,
            "align_self": null,
            "border_bottom": null,
            "border_left": null,
            "border_right": null,
            "border_top": null,
            "bottom": null,
            "display": null,
            "flex": null,
            "flex_flow": null,
            "grid_area": null,
            "grid_auto_columns": null,
            "grid_auto_flow": null,
            "grid_auto_rows": null,
            "grid_column": null,
            "grid_gap": null,
            "grid_row": null,
            "grid_template_areas": null,
            "grid_template_columns": null,
            "grid_template_rows": null,
            "height": null,
            "justify_content": null,
            "justify_items": null,
            "left": null,
            "margin": null,
            "max_height": null,
            "max_width": null,
            "min_height": null,
            "min_width": null,
            "object_fit": null,
            "object_position": null,
            "order": null,
            "overflow": null,
            "padding": null,
            "right": null,
            "top": null,
            "visibility": null,
            "width": null
          }
        },
        "1aabd471feaf4f9188ad8cdec7ca1e27": {
          "model_module": "@jupyter-widgets/controls",
          "model_name": "TextStyleModel",
          "model_module_version": "2.0.0",
          "state": {
            "_model_module": "@jupyter-widgets/controls",
            "_model_module_version": "2.0.0",
            "_model_name": "TextStyleModel",
            "_view_count": null,
            "_view_module": "@jupyter-widgets/base",
            "_view_module_version": "2.0.0",
            "_view_name": "StyleView",
            "background": null,
            "description_width": "",
            "font_size": null,
            "text_color": null
          }
        },
        "a651ed296e3041028ebd1c2f6da647e3": {
          "model_module": "@jupyter-widgets/base",
          "model_name": "LayoutModel",
          "model_module_version": "2.0.0",
          "state": {
            "_model_module": "@jupyter-widgets/base",
            "_model_module_version": "2.0.0",
            "_model_name": "LayoutModel",
            "_view_count": null,
            "_view_module": "@jupyter-widgets/base",
            "_view_module_version": "2.0.0",
            "_view_name": "LayoutView",
            "align_content": null,
            "align_items": null,
            "align_self": null,
            "border_bottom": null,
            "border_left": null,
            "border_right": null,
            "border_top": null,
            "bottom": null,
            "display": null,
            "flex": null,
            "flex_flow": null,
            "grid_area": null,
            "grid_auto_columns": null,
            "grid_auto_flow": null,
            "grid_auto_rows": null,
            "grid_column": null,
            "grid_gap": null,
            "grid_row": null,
            "grid_template_areas": null,
            "grid_template_columns": null,
            "grid_template_rows": null,
            "height": null,
            "justify_content": null,
            "justify_items": null,
            "left": null,
            "margin": null,
            "max_height": null,
            "max_width": null,
            "min_height": null,
            "min_width": null,
            "object_fit": null,
            "object_position": null,
            "order": null,
            "overflow": null,
            "padding": null,
            "right": null,
            "top": null,
            "visibility": null,
            "width": null
          }
        },
        "d8156008679b449a8ffa13a2229b1836": {
          "model_module": "@jupyter-widgets/controls",
          "model_name": "TextStyleModel",
          "model_module_version": "2.0.0",
          "state": {
            "_model_module": "@jupyter-widgets/controls",
            "_model_module_version": "2.0.0",
            "_model_name": "TextStyleModel",
            "_view_count": null,
            "_view_module": "@jupyter-widgets/base",
            "_view_module_version": "2.0.0",
            "_view_name": "StyleView",
            "background": null,
            "description_width": "",
            "font_size": null,
            "text_color": null
          }
        },
        "2493d925b18c4207a324ce7ebd2d2cf8": {
          "model_module": "@jupyter-widgets/base",
          "model_name": "LayoutModel",
          "model_module_version": "2.0.0",
          "state": {
            "_model_module": "@jupyter-widgets/base",
            "_model_module_version": "2.0.0",
            "_model_name": "LayoutModel",
            "_view_count": null,
            "_view_module": "@jupyter-widgets/base",
            "_view_module_version": "2.0.0",
            "_view_name": "LayoutView",
            "align_content": null,
            "align_items": null,
            "align_self": null,
            "border_bottom": null,
            "border_left": null,
            "border_right": null,
            "border_top": null,
            "bottom": null,
            "display": null,
            "flex": null,
            "flex_flow": null,
            "grid_area": null,
            "grid_auto_columns": null,
            "grid_auto_flow": null,
            "grid_auto_rows": null,
            "grid_column": null,
            "grid_gap": null,
            "grid_row": null,
            "grid_template_areas": null,
            "grid_template_columns": null,
            "grid_template_rows": null,
            "height": null,
            "justify_content": null,
            "justify_items": null,
            "left": null,
            "margin": null,
            "max_height": null,
            "max_width": null,
            "min_height": null,
            "min_width": null,
            "object_fit": null,
            "object_position": null,
            "order": null,
            "overflow": null,
            "padding": null,
            "right": null,
            "top": null,
            "visibility": null,
            "width": null
          }
        },
        "e89edec25d3149b1aba842f4a858d7a6": {
          "model_module": "@jupyter-widgets/controls",
          "model_name": "ButtonStyleModel",
          "model_module_version": "2.0.0",
          "state": {
            "_model_module": "@jupyter-widgets/controls",
            "_model_module_version": "2.0.0",
            "_model_name": "ButtonStyleModel",
            "_view_count": null,
            "_view_module": "@jupyter-widgets/base",
            "_view_module_version": "2.0.0",
            "_view_name": "StyleView",
            "button_color": null,
            "font_family": null,
            "font_size": null,
            "font_style": null,
            "font_variant": null,
            "font_weight": null,
            "text_color": null,
            "text_decoration": null
          }
        },
        "5aad4b51933b452286ff51281c4109ab": {
          "model_module": "@jupyter-widgets/base",
          "model_name": "LayoutModel",
          "model_module_version": "2.0.0",
          "state": {
            "_model_module": "@jupyter-widgets/base",
            "_model_module_version": "2.0.0",
            "_model_name": "LayoutModel",
            "_view_count": null,
            "_view_module": "@jupyter-widgets/base",
            "_view_module_version": "2.0.0",
            "_view_name": "LayoutView",
            "align_content": null,
            "align_items": null,
            "align_self": null,
            "border_bottom": null,
            "border_left": null,
            "border_right": null,
            "border_top": null,
            "bottom": null,
            "display": null,
            "flex": null,
            "flex_flow": null,
            "grid_area": null,
            "grid_auto_columns": null,
            "grid_auto_flow": null,
            "grid_auto_rows": null,
            "grid_column": null,
            "grid_gap": null,
            "grid_row": null,
            "grid_template_areas": null,
            "grid_template_columns": null,
            "grid_template_rows": null,
            "height": null,
            "justify_content": null,
            "justify_items": null,
            "left": null,
            "margin": null,
            "max_height": null,
            "max_width": null,
            "min_height": null,
            "min_width": null,
            "object_fit": null,
            "object_position": null,
            "order": null,
            "overflow": null,
            "padding": null,
            "right": null,
            "top": null,
            "visibility": null,
            "width": null
          }
        },
        "53661a7d076e4c778f8b9da3f31188d7": {
          "model_module": "@jupyter-widgets/controls",
          "model_name": "HTMLStyleModel",
          "model_module_version": "2.0.0",
          "state": {
            "_model_module": "@jupyter-widgets/controls",
            "_model_module_version": "2.0.0",
            "_model_name": "HTMLStyleModel",
            "_view_count": null,
            "_view_module": "@jupyter-widgets/base",
            "_view_module_version": "2.0.0",
            "_view_name": "StyleView",
            "background": null,
            "description_width": "",
            "font_size": null,
            "text_color": null
          }
        }
      }
    }
  },
  "nbformat_minor": 0,
  "nbformat": 4,
  "cells": [
    {
      "cell_type": "markdown",
      "metadata": {
        "id": "view-in-github",
        "colab_type": "text"
      },
      "source": [
        "<a href=\"https://colab.research.google.com/github/kavindus0/Vgurad/blob/imgbot/notebooka6ba5854f5.ipynb\" target=\"_parent\"><img src=\"https://colab.research.google.com/assets/colab-badge.svg\" alt=\"Open In Colab\"/></a>"
      ]
    },
    {
      "source": [
        "# IMPORTANT: SOME KAGGLE DATA SOURCES ARE PRIVATE\n",
        "# RUN THIS CELL IN ORDER TO IMPORT YOUR KAGGLE DATA SOURCES.\n",
        "import kagglehub\n",
        "kagglehub.login()\n"
      ],
      "metadata": {
        "id": "w7GteZrlzfvi",
        "outputId": "ebf9a7e3-2476-4d66-e350-ab193c5ed73c",
        "colab": {
          "base_uri": "https://localhost:8080/",
          "height": 17,
          "referenced_widgets": [
            "35ffe753d72d4e71b04b3c9b96e7fa02",
            "0914ef4678f44592a962dc2c632fd63a",
            "cac8ba337c594e1c970e8346afc5a59c",
            "33acc52610ca4598b0d8d55658c211cf",
            "727c08827fa340abb2a56ef1921f1a5d",
            "206984a866ff4930b590ac511ec2b7d3",
            "e91435ae494745fbb773b43007ce8de8",
            "4a50945efb894bec98bf684035ca28d4",
            "36cdb463d4ff4e56b52176a05d35423d",
            "dd0c2de2a27f454cb4867c4bbacb00b6",
            "1aabd471feaf4f9188ad8cdec7ca1e27",
            "a651ed296e3041028ebd1c2f6da647e3",
            "d8156008679b449a8ffa13a2229b1836",
            "2493d925b18c4207a324ce7ebd2d2cf8",
            "e89edec25d3149b1aba842f4a858d7a6",
            "5aad4b51933b452286ff51281c4109ab",
            "53661a7d076e4c778f8b9da3f31188d7"
          ]
        }
      },
      "cell_type": "code",
      "outputs": [
        {
          "output_type": "display_data",
          "data": {
            "text/plain": [
              "VBox(children=(HTML(value='<center> <img\\nsrc=https://www.kaggle.com/static/images/site-logo.png\\nalt=\\'Kaggle…"
            ],
            "application/vnd.jupyter.widget-view+json": {
              "version_major": 2,
              "version_minor": 0,
              "model_id": "35ffe753d72d4e71b04b3c9b96e7fa02"
            }
          },
          "metadata": {}
        }
      ],
      "execution_count": 8
    },
    {
      "source": [
        "# IMPORTANT: RUN THIS CELL IN ORDER TO IMPORT YOUR KAGGLE DATA SOURCES,\n",
        "# THEN FEEL FREE TO DELETE THIS CELL.\n",
        "# NOTE: THIS NOTEBOOK ENVIRONMENT DIFFERS FROM KAGGLE'S PYTHON\n",
        "# ENVIRONMENT SO THERE MAY BE MISSING LIBRARIES USED BY YOUR\n",
        "# NOTEBOOK.\n",
        "\n",
        "paddy_disease_classification_path = kagglehub.competition_download('paddy-disease-classification')\n",
        "\n",
        "print('Data source import complete.')\n"
      ],
      "metadata": {
        "id": "BCxHq_iQzfvk",
        "outputId": "bb059f7b-336c-4b6a-fb2a-d2f7a3450c6f",
        "colab": {
          "base_uri": "https://localhost:8080/"
        }
      },
      "cell_type": "code",
      "outputs": [
        {
          "output_type": "stream",
          "name": "stdout",
          "text": [
            "Data source import complete.\n"
          ]
        }
      ],
      "execution_count": 9
    },
    {
      "cell_type": "code",
      "source": [
        "print(\"hi\")"
      ],
      "metadata": {
        "trusted": true,
        "id": "zbYQvWs0zfvk",
        "outputId": "3c63ea72-4787-4ca1-b26f-1fd6cfb7baf1",
        "colab": {
          "base_uri": "https://localhost:8080/"
        }
      },
      "outputs": [
        {
          "output_type": "stream",
          "name": "stdout",
          "text": [
            "hi\n"
          ]
        }
      ],
      "execution_count": 10
    },
    {
      "cell_type": "code",
      "source": [
        "!pip install -q fastkaggle fastai timm==0.9.16\n"
      ],
      "metadata": {
        "trusted": true,
        "execution": {
          "iopub.status.busy": "2025-07-19T22:02:01.445986Z",
          "iopub.status.idle": "2025-07-19T22:02:01.446335Z",
          "shell.execute_reply.started": "2025-07-19T22:02:01.446172Z",
          "shell.execute_reply": "2025-07-19T22:02:01.446187Z"
        },
        "id": "f-fNoGDazfvk",
        "outputId": "0972423e-1eb5-4010-8b34-92120af637eb",
        "colab": {
          "base_uri": "https://localhost:8080/"
        }
      },
      "outputs": [
        {
          "output_type": "stream",
          "name": "stdout",
          "text": [
            "\u001b[33mWARNING: Retrying (Retry(total=4, connect=None, read=None, redirect=None, status=None)) after connection broken by 'NewConnectionError('<pip._vendor.urllib3.connection.HTTPSConnection object at 0x7b5becdf8f10>: Failed to establish a new connection: [Errno -3] Temporary failure in name resolution')': /simple/fastkaggle/\u001b[0m\u001b[33m\r\n",
            "\u001b[0m"
          ]
        }
      ],
      "execution_count": null
    },
    {
      "cell_type": "code",
      "source": [
        "from fastkaggle import setup_comp\n",
        "import gc, torch\n"
      ],
      "metadata": {
        "trusted": true,
        "execution": {
          "iopub.status.busy": "2025-07-19T22:02:01.447168Z",
          "iopub.status.idle": "2025-07-19T22:02:01.44749Z",
          "shell.execute_reply.started": "2025-07-19T22:02:01.447322Z",
          "shell.execute_reply": "2025-07-19T22:02:01.447339Z"
        },
        "id": "TBMxaPBUzfvk"
      },
      "outputs": [],
      "execution_count": null
    },
    {
      "cell_type": "code",
      "source": [
        "comp = 'paddy-disease-classification'\n",
        "path = setup_comp(comp, install='\"fastcore>=1.4.5\" \"fastai>=2.7.1\" \"timm>=0.6.2.dev0\"')\n",
        "from fastai.vision.all import *\n",
        "from fastai.losses import LabelSmoothingCrossEntropy\n"
      ],
      "metadata": {
        "trusted": true,
        "execution": {
          "iopub.status.busy": "2025-07-19T22:02:01.44865Z",
          "iopub.status.idle": "2025-07-19T22:02:01.449042Z",
          "shell.execute_reply.started": "2025-07-19T22:02:01.448842Z",
          "shell.execute_reply": "2025-07-19T22:02:01.448856Z"
        },
        "id": "URHB1hVczfvk"
      },
      "outputs": [],
      "execution_count": null
    },
    {
      "cell_type": "code",
      "source": [
        "from fastai.vision.all import *\n",
        "set_seed(42)\n"
      ],
      "metadata": {
        "trusted": true,
        "execution": {
          "iopub.status.busy": "2025-07-19T22:02:01.450312Z",
          "iopub.status.idle": "2025-07-19T22:02:01.450639Z",
          "shell.execute_reply.started": "2025-07-19T22:02:01.450471Z",
          "shell.execute_reply": "2025-07-19T22:02:01.450486Z"
        },
        "id": "q90gvA7_zfvl"
      },
      "outputs": [],
      "execution_count": null
    },
    {
      "cell_type": "code",
      "source": [
        "train_path = path/'train_images'\n",
        "print('class folders:', train_path.ls()[:5])\n",
        "print('total images :', len(get_image_files(train_path)))"
      ],
      "metadata": {
        "trusted": true,
        "execution": {
          "iopub.status.busy": "2025-07-19T22:02:01.452789Z",
          "iopub.status.idle": "2025-07-19T22:02:01.453177Z",
          "shell.execute_reply.started": "2025-07-19T22:02:01.452976Z",
          "shell.execute_reply": "2025-07-19T22:02:01.452994Z"
        },
        "id": "cgMNUltNzfvl"
      },
      "outputs": [],
      "execution_count": null
    },
    {
      "cell_type": "code",
      "source": [
        "dls = ImageDataLoaders.from_folder(\n",
        "    train_path, valid_pct=0.2, seed=42,\n",
        "    item_tfms = Resize(256,  method='pad', pad_mode=PadMode.Zeros),\n",
        "    batch_tfms= [*aug_transforms(size=128, min_scale=0.75),\n",
        "                 Normalize.from_stats(*imagenet_stats)],\n",
        "    bs = 96\n",
        ")\n",
        "\n",
        "learn = vision_learner(\n",
        "          dls, 'convnext_small_in22k',\n",
        "          metrics=error_rate,\n",
        "          model_dir=Path('/kaggle/working/models'),\n",
        "        loss_func = LabelSmoothingCrossEntropy(0.1)\n",
        "\n",
        "       ).to_fp16()\n",
        "learn.lr_find(suggest_funcs=(valley, slide))\n",
        "learn.fine_tune(1, 1e-3)\n",
        "learn.save('cns_128')\n",
        "gc.collect(); torch.cuda.empty_cache()"
      ],
      "metadata": {
        "trusted": true,
        "execution": {
          "iopub.status.busy": "2025-07-19T22:02:01.457055Z",
          "iopub.status.idle": "2025-07-19T22:02:01.457467Z",
          "shell.execute_reply.started": "2025-07-19T22:02:01.457262Z",
          "shell.execute_reply": "2025-07-19T22:02:01.457278Z"
        },
        "id": "YAuzdPOGzfvl"
      },
      "outputs": [],
      "execution_count": null
    },
    {
      "cell_type": "code",
      "source": [
        "dls = ImageDataLoaders.from_folder(\n",
        "    train_path, valid_pct=0.2, seed=42,\n",
        "    item_tfms = Resize(448, method='pad', pad_mode=PadMode.Zeros),\n",
        "    batch_tfms= [*aug_transforms(size=224, min_scale=0.75),\n",
        "                 Normalize.from_stats(*imagenet_stats)],\n",
        "    bs = 64\n",
        ")\n",
        "\n",
        "learn.dls = dls\n",
        "learn.load('cns_128')\n",
        "learn.freeze()\n",
        "learn.lr_find(suggest_funcs=(valley, slide))\n",
        "learn.fine_tune(4, 1.5e-3)\n",
        "learn.save('cns_224')\n",
        "gc.collect(); torch.cuda.empty_cache()"
      ],
      "metadata": {
        "trusted": true,
        "execution": {
          "iopub.status.busy": "2025-07-19T22:02:01.459351Z",
          "iopub.status.idle": "2025-07-19T22:02:01.459702Z",
          "shell.execute_reply.started": "2025-07-19T22:02:01.459523Z",
          "shell.execute_reply": "2025-07-19T22:02:01.45954Z"
        },
        "id": "aqA7Crcyzfvl"
      },
      "outputs": [],
      "execution_count": null
    },
    {
      "cell_type": "code",
      "source": [
        "dls = ImageDataLoaders.from_folder(\n",
        "    train_path, valid_pct=0.2, seed=42,\n",
        "    item_tfms = Resize((480, 360),\n",
        "                       method='pad', pad_mode=PadMode.Zeros),\n",
        "    batch_tfms= [*aug_transforms(size=(320,240), min_scale=0.75),\n",
        "                 Normalize.from_stats(*imagenet_stats)],\n",
        "    bs = 40\n",
        ")\n",
        "\n",
        "learn.dls = dls\n",
        "learn.load('cns_224')\n",
        "learn.unfreeze()\n",
        "learn.lr_find(suggest_funcs=(valley, slide))\n",
        "learn.fit_one_cycle(3, 5e-5)\n",
        "learn.save('cns_320')\n",
        "gc.collect(); torch.cuda.empty_cache()"
      ],
      "metadata": {
        "trusted": true,
        "execution": {
          "iopub.status.busy": "2025-07-19T22:02:01.460752Z",
          "iopub.status.idle": "2025-07-19T22:02:01.461259Z",
          "shell.execute_reply.started": "2025-07-19T22:02:01.461097Z",
          "shell.execute_reply": "2025-07-19T22:02:01.461119Z"
        },
        "id": "qijzCcfRzfvl"
      },
      "outputs": [],
      "execution_count": null
    },
    {
      "cell_type": "code",
      "source": [
        "dls = ImageDataLoaders.from_folder(\n",
        "    train_path, valid_pct=0.2, seed=42,\n",
        "    item_tfms = Resize((480,360), method='pad', pad_mode=PadMode.Zeros),\n",
        "    batch_tfms= [*aug_transforms(size=(480,360), min_scale=0.75),\n",
        "                 Normalize.from_stats(*imagenet_stats)],\n",
        "    bs = 24\n",
        ")\n",
        "\n",
        "learn.dls = dls\n",
        "learn.load('cns_320')\n",
        "learn.unfreeze()\n",
        "learn.lr_find(suggest_funcs=(valley, slide))\n",
        "learn.fit_one_cycle(10, 1e-5)\n",
        "learn.save('cns_480')"
      ],
      "metadata": {
        "trusted": true,
        "execution": {
          "iopub.status.busy": "2025-07-19T22:02:01.462209Z",
          "iopub.status.idle": "2025-07-19T22:02:01.462548Z",
          "shell.execute_reply.started": "2025-07-19T22:02:01.462378Z",
          "shell.execute_reply": "2025-07-19T22:02:01.462393Z"
        },
        "id": "-n5S57Euzfvl"
      },
      "outputs": [],
      "execution_count": null
    },
    {
      "cell_type": "code",
      "source": [
        "tta_preds,targs = learn.tta(dl=learn.dls.valid)\n",
        "error_rate(tta_preds, targs)"
      ],
      "metadata": {
        "trusted": true,
        "execution": {
          "iopub.status.busy": "2025-07-19T22:02:01.463852Z",
          "iopub.status.idle": "2025-07-19T22:02:01.464224Z",
          "shell.execute_reply.started": "2025-07-19T22:02:01.46402Z",
          "shell.execute_reply": "2025-07-19T22:02:01.464034Z"
        },
        "id": "mgWe4Rgmzfvl"
      },
      "outputs": [],
      "execution_count": null
    },
    {
      "cell_type": "code",
      "source": [
        "from fastai.vision.all import get_image_files\n",
        "import pandas as pd, numpy as np\n",
        "\n",
        "tst_files = get_image_files(path/'test_images').sorted()\n",
        "tst_dl    = learn.dls.test_dl(tst_files)\n",
        "\n",
        "tta_preds, _ = learn.tta(dl=tst_dl)\n",
        "\n",
        "idxs = tta_preds.argmax(dim=1).cpu().numpy()\n",
        "\n",
        "vocab  = np.array(learn.dls.vocab)\n",
        "labels = vocab[idxs]\n",
        "\n",
        "ss = pd.read_csv(path/'sample_submission.csv')\n",
        "ss['label'] = labels\n",
        "\n",
        "ss.to_csv('submission.csv', index=False)\n",
        "\n",
        "print(ss.head())"
      ],
      "metadata": {
        "trusted": true,
        "execution": {
          "iopub.status.busy": "2025-07-19T22:02:01.465537Z",
          "iopub.status.idle": "2025-07-19T22:02:01.465997Z",
          "shell.execute_reply.started": "2025-07-19T22:02:01.465845Z",
          "shell.execute_reply": "2025-07-19T22:02:01.46586Z"
        },
        "id": "0IYPdKNjzfvl"
      },
      "outputs": [],
      "execution_count": null
    },
    {
      "cell_type": "code",
      "source": [
        "learn.tta(dl=tst_dl)"
      ],
      "metadata": {
        "trusted": true,
        "execution": {
          "iopub.status.busy": "2025-07-19T22:02:01.467427Z",
          "iopub.status.idle": "2025-07-19T22:02:01.467768Z",
          "shell.execute_reply.started": "2025-07-19T22:02:01.467592Z",
          "shell.execute_reply": "2025-07-19T22:02:01.467608Z"
        },
        "id": "SZxNIjQUzfvm"
      },
      "outputs": [],
      "execution_count": null
    },
    {
      "cell_type": "code",
      "source": [
        "learn.export(\"paddy_model.pkl\")"
      ],
      "metadata": {
        "trusted": true,
        "execution": {
          "iopub.status.busy": "2025-07-19T22:02:01.468657Z",
          "iopub.status.idle": "2025-07-19T22:02:01.469011Z",
          "shell.execute_reply.started": "2025-07-19T22:02:01.468818Z",
          "shell.execute_reply": "2025-07-19T22:02:01.468842Z"
        },
        "id": "yYy3yY-0zfvm"
      },
      "outputs": [],
      "execution_count": null
    },
    {
      "cell_type": "code",
      "source": [],
      "metadata": {
        "trusted": true,
        "id": "Yqo5j6qCzfvm"
      },
      "outputs": [],
      "execution_count": null
    }
  ]
}